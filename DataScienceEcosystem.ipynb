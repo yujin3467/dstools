{
 "cells": [
  {
   "cell_type": "markdown",
   "id": "d60c9f02-c474-4e08-9dbf-c30b3394963b",
   "metadata": {},
   "source": [
    "# Data Science Tools and Ecosystem"
   ]
  },
  {
   "cell_type": "markdown",
   "id": "ce687329-052c-4de3-83bc-3931c552071c",
   "metadata": {},
   "source": [
    "In this notebook, Data Science Tools and Ecosystem are summarized."
   ]
  },
  {
   "cell_type": "markdown",
   "id": "b02590e7-b33d-40a0-aa89-e7c61d9dcd4f",
   "metadata": {},
   "source": [
    "**Objectives:**\n",
    "- List popular languages for Data Science\n",
    "- List common libraries for Data Science\n",
    "- List open source environment for Data Science\n",
    "- Create a table\n",
    "- Use arithmetic experession"
   ]
  },
  {
   "cell_type": "markdown",
   "id": "afc80012-e9a0-4381-a532-6b5d653dcafd",
   "metadata": {},
   "source": [
    "Some of the popular languages that Data Scientists use are:\n",
    "1. Python\n",
    "2. R\n",
    "3. SQL"
   ]
  },
  {
   "cell_type": "markdown",
   "id": "56ff6836-0a04-4249-83b3-ca1d1097dabd",
   "metadata": {},
   "source": [
    "Some of the commonly used libraries used by Data Scientists include:\n",
    "1. pandas\n",
    "2. numpy\n",
    "3. pyTorch"
   ]
  },
  {
   "cell_type": "markdown",
   "id": "80d0fea4-65e9-437a-9d32-e2c353bc7230",
   "metadata": {},
   "source": [
    "|Data Science Tools|\n",
    "|-----|\n",
    "|Jupyter notebook|\n",
    "|Apache Zeppelin|\n",
    "|R Studio|"
   ]
  },
  {
   "cell_type": "markdown",
   "id": "5a3d8043-0163-44e3-a0c2-da5d789054ac",
   "metadata": {},
   "source": [
    "### Below are a few examples of evaluating arithmetic experessions in Python."
   ]
  },
  {
   "cell_type": "code",
   "execution_count": 1,
   "id": "a7d130f1-12a5-4a2c-911f-cb77eb23a073",
   "metadata": {
    "tags": []
   },
   "outputs": [
    {
     "data": {
      "text/plain": [
       "17"
      ]
     },
     "execution_count": 1,
     "metadata": {},
     "output_type": "execute_result"
    }
   ],
   "source": [
    "#This is a simple arithmetic experession to multiply then add integers.\n",
    "(3*4)+5"
   ]
  },
  {
   "cell_type": "code",
   "execution_count": 3,
   "id": "2e3042e5-9a8d-47a4-a1de-d062914a6fb5",
   "metadata": {
    "tags": []
   },
   "outputs": [
    {
     "data": {
      "text/plain": [
       "3.3333333333333335"
      ]
     },
     "execution_count": 3,
     "metadata": {},
     "output_type": "execute_result"
    }
   ],
   "source": [
    "# This will convert 200 minutes to hours by dividing by 60.\n",
    "200/60"
   ]
  },
  {
   "cell_type": "markdown",
   "id": "b9e92cd8-35bb-4f26-b581-5550465553bb",
   "metadata": {},
   "source": [
    "## Author\n",
    "Yujin Kim"
   ]
  },
  {
   "cell_type": "code",
   "execution_count": null,
   "id": "b62458c2-c0ca-4b43-b8f0-245c20d58c0f",
   "metadata": {},
   "outputs": [],
   "source": []
  }
 ],
 "metadata": {
  "kernelspec": {
   "display_name": "Python",
   "language": "python",
   "name": "conda-env-python-py"
  },
  "language_info": {
   "codemirror_mode": {
    "name": "ipython",
    "version": 3
   },
   "file_extension": ".py",
   "mimetype": "text/x-python",
   "name": "python",
   "nbconvert_exporter": "python",
   "pygments_lexer": "ipython3",
   "version": "3.7.12"
  }
 },
 "nbformat": 4,
 "nbformat_minor": 5
}
